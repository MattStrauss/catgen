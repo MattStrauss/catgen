{
 "cells": [
  {
   "cell_type": "code",
   "execution_count": null,
   "metadata": {},
   "outputs": [],
   "source": [
    "from fastai.vision import *\n",
    "\n",
    "import pandas as pd \n",
    "import numpy as np \n",
    "from pathlib import Path\n",
    "import warnings\n",
    "warnings.filterwarnings('ignore')\n",
    "\n",
    "proj_path = r\"dataset\"\n",
    "p_path = Path(proj_path)\n",
    "\n",
    "df = pd.read_csv(\"modified_category.csv\")\n",
    "df.head()\n",
    "\n",
    "#PICK IMAGE SIZE#\n",
    "img_size = 256\n",
    "\n",
    "np.random.seed(90)\n",
    "data = (ImageList.from_df(df, \"./\")\n",
    "                    .split_by_rand_pct(0.2)\n",
    "                    .label_from_df()\n",
    "                    .transform(get_transforms(), size= img_size)\n",
    "                    .databunch(bs=6)).normalize(imagenet_stats)\n",
    "\n",
    "data.show_batch()"
   ]
  },
  {
   "cell_type": "code",
   "execution_count": null,
   "metadata": {},
   "outputs": [],
   "source": [
    "############ Create Model ############\n",
    "from fastai.metrics import accuracy, Precision, Recall\n",
    "learn = cnn_learner(data, models.resnet34, metrics=[accuracy, Precision(average='macro'), Recall(average='macro')], opt_func=optim.SGD)\n",
    "\n",
    "#categories to predict\n",
    "data.classes\n",
    "\n",
    "#no of categories present\n",
    "data.c\n",
    "\n",
    "#length of training set\n",
    "len(data.train_ds)\n",
    "\n",
    "#length of validation set\n",
    "len(data.valid_ds)"
   ]
  },
  {
   "cell_type": "code",
   "execution_count": null,
   "metadata": {},
   "outputs": [],
   "source": [
    "############ Train Model ############\n",
    "# Build the CNN model with the pretrained resnet34\n",
    "# Error rate = 1 - accuracy\n",
    "\n",
    "#EDIT NUMBER OF EPOCHS, CAN ALSO ADD A LEARNING RATE (e.g. lr = 0.003)    \n",
    "# Train the model on # epochs of data at the default learning rate\n",
    "learn.data.batch_size = 50\n",
    "learn.unfreeze()"
   ]
  },
  {
   "cell_type": "code",
   "execution_count": null,
   "metadata": {},
   "outputs": [],
   "source": [
    "learn.fit(10, 0.005)\n",
    "\n",
    "\n",
    "#NOT SURE WHERE/HOW IT'S SAVING IT\n",
    "# save model\n",
    "learn.save('res34-stage1')\n",
    "\n",
    "############ Evaluate Model ############\n",
    "interp = ClassificationInterpretation.from_learner(learn)\n",
    "\n",
    "# confusion matrix: actual on left, predicted on right\n",
    "interp.plot_confusion_matrix(figsize=(17, 17))\n",
    "\n",
    "\n",
    "# print out the most mis-classified classes\n",
    "interp.most_confused()\n",
    "\n",
    "# plotting the top losses\n",
    "interp.plot_top_losses(6, figsize=(25,25))"
   ]
  }
 ],
 "metadata": {
  "interpreter": {
   "hash": "b985a0a1f654bcff264afb31def0daea35a5c459ab728ef0f19f2ea3deb5b32b"
  },
  "kernelspec": {
   "display_name": "Python 3.9.7 ('base')",
   "language": "python",
   "name": "python3"
  },
  "language_info": {
   "codemirror_mode": {
    "name": "ipython",
    "version": 3
   },
   "file_extension": ".py",
   "mimetype": "text/x-python",
   "name": "python",
   "nbconvert_exporter": "python",
   "pygments_lexer": "ipython3",
   "version": "3.9.7"
  },
  "orig_nbformat": 4
 },
 "nbformat": 4,
 "nbformat_minor": 2
}
